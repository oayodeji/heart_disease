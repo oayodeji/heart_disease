{
  "cells": [
    {
      "cell_type": "code",
      "execution_count": 155,
      "metadata": {
        "id": "WCYyiyya04Cb"
      },
      "outputs": [],
      "source": [
        "import pandas as pd\n",
        "from sklearn.tree import *\n",
        "from sklearn.ensemble import *\n",
        "from sklearn.naive_bayes import *\n",
        "from sklearn.svm import *\n",
        "from sklearn.linear_model import *\n",
        "from sklearn.model_selection import *\n",
        "from sklearn.feature_selection import *\n",
        "from sklearn.metrics import *\n",
        "import numpy as np\n",
        "import matplotlib.pyplot as plt\n",
        "import timeit\n",
        "from contextlib import contextmanager"
      ]
    },
    {
      "cell_type": "code",
      "execution_count": 156,
      "metadata": {
        "id": "21lFl6lIEs_z"
      },
      "outputs": [],
      "source": [
        "import warnings\n",
        "warnings.filterwarnings('ignore')"
      ]
    },
    {
      "cell_type": "code",
      "execution_count": 157,
      "metadata": {
        "colab": {
          "base_uri": "https://localhost:8080/",
          "height": 363
        },
        "id": "DtrVlRhF16wZ",
        "outputId": "069b7865-bd6d-4fab-90b0-edae64220f96"
      },
      "outputs": [
        {
          "data": {
            "text/html": [
              "<div>\n",
              "<style scoped>\n",
              "    .dataframe tbody tr th:only-of-type {\n",
              "        vertical-align: middle;\n",
              "    }\n",
              "\n",
              "    .dataframe tbody tr th {\n",
              "        vertical-align: top;\n",
              "    }\n",
              "\n",
              "    .dataframe thead th {\n",
              "        text-align: right;\n",
              "    }\n",
              "</style>\n",
              "<table border=\"1\" class=\"dataframe\">\n",
              "  <thead>\n",
              "    <tr style=\"text-align: right;\">\n",
              "      <th></th>\n",
              "      <th>Age</th>\n",
              "      <th>Sex</th>\n",
              "      <th>ChestPain</th>\n",
              "      <th>RestBP</th>\n",
              "      <th>Chol</th>\n",
              "      <th>Fbs</th>\n",
              "      <th>RestECG</th>\n",
              "      <th>MaxHR</th>\n",
              "      <th>ExAng</th>\n",
              "      <th>Oldpeak</th>\n",
              "      <th>Slope</th>\n",
              "      <th>Ca</th>\n",
              "      <th>Thal</th>\n",
              "      <th>AHD</th>\n",
              "    </tr>\n",
              "  </thead>\n",
              "  <tbody>\n",
              "    <tr>\n",
              "      <th>0</th>\n",
              "      <td>63</td>\n",
              "      <td>1</td>\n",
              "      <td>0</td>\n",
              "      <td>145</td>\n",
              "      <td>233</td>\n",
              "      <td>1</td>\n",
              "      <td>2</td>\n",
              "      <td>150</td>\n",
              "      <td>0</td>\n",
              "      <td>2.3</td>\n",
              "      <td>3</td>\n",
              "      <td>0.0</td>\n",
              "      <td>0</td>\n",
              "      <td>1</td>\n",
              "    </tr>\n",
              "    <tr>\n",
              "      <th>1</th>\n",
              "      <td>67</td>\n",
              "      <td>1</td>\n",
              "      <td>1</td>\n",
              "      <td>160</td>\n",
              "      <td>286</td>\n",
              "      <td>0</td>\n",
              "      <td>2</td>\n",
              "      <td>108</td>\n",
              "      <td>1</td>\n",
              "      <td>1.5</td>\n",
              "      <td>2</td>\n",
              "      <td>3.0</td>\n",
              "      <td>1</td>\n",
              "      <td>0</td>\n",
              "    </tr>\n",
              "    <tr>\n",
              "      <th>2</th>\n",
              "      <td>67</td>\n",
              "      <td>1</td>\n",
              "      <td>1</td>\n",
              "      <td>120</td>\n",
              "      <td>229</td>\n",
              "      <td>0</td>\n",
              "      <td>2</td>\n",
              "      <td>129</td>\n",
              "      <td>1</td>\n",
              "      <td>2.6</td>\n",
              "      <td>2</td>\n",
              "      <td>2.0</td>\n",
              "      <td>2</td>\n",
              "      <td>0</td>\n",
              "    </tr>\n",
              "    <tr>\n",
              "      <th>3</th>\n",
              "      <td>37</td>\n",
              "      <td>1</td>\n",
              "      <td>2</td>\n",
              "      <td>130</td>\n",
              "      <td>250</td>\n",
              "      <td>0</td>\n",
              "      <td>0</td>\n",
              "      <td>187</td>\n",
              "      <td>0</td>\n",
              "      <td>3.5</td>\n",
              "      <td>3</td>\n",
              "      <td>0.0</td>\n",
              "      <td>1</td>\n",
              "      <td>1</td>\n",
              "    </tr>\n",
              "    <tr>\n",
              "      <th>4</th>\n",
              "      <td>41</td>\n",
              "      <td>0</td>\n",
              "      <td>3</td>\n",
              "      <td>130</td>\n",
              "      <td>204</td>\n",
              "      <td>0</td>\n",
              "      <td>2</td>\n",
              "      <td>172</td>\n",
              "      <td>0</td>\n",
              "      <td>1.4</td>\n",
              "      <td>1</td>\n",
              "      <td>0.0</td>\n",
              "      <td>1</td>\n",
              "      <td>1</td>\n",
              "    </tr>\n",
              "    <tr>\n",
              "      <th>5</th>\n",
              "      <td>56</td>\n",
              "      <td>1</td>\n",
              "      <td>3</td>\n",
              "      <td>120</td>\n",
              "      <td>236</td>\n",
              "      <td>0</td>\n",
              "      <td>0</td>\n",
              "      <td>178</td>\n",
              "      <td>0</td>\n",
              "      <td>0.8</td>\n",
              "      <td>1</td>\n",
              "      <td>0.0</td>\n",
              "      <td>1</td>\n",
              "      <td>1</td>\n",
              "    </tr>\n",
              "    <tr>\n",
              "      <th>6</th>\n",
              "      <td>62</td>\n",
              "      <td>0</td>\n",
              "      <td>1</td>\n",
              "      <td>140</td>\n",
              "      <td>268</td>\n",
              "      <td>0</td>\n",
              "      <td>2</td>\n",
              "      <td>160</td>\n",
              "      <td>0</td>\n",
              "      <td>3.6</td>\n",
              "      <td>3</td>\n",
              "      <td>2.0</td>\n",
              "      <td>1</td>\n",
              "      <td>0</td>\n",
              "    </tr>\n",
              "    <tr>\n",
              "      <th>7</th>\n",
              "      <td>57</td>\n",
              "      <td>0</td>\n",
              "      <td>1</td>\n",
              "      <td>120</td>\n",
              "      <td>354</td>\n",
              "      <td>0</td>\n",
              "      <td>0</td>\n",
              "      <td>163</td>\n",
              "      <td>1</td>\n",
              "      <td>0.6</td>\n",
              "      <td>1</td>\n",
              "      <td>0.0</td>\n",
              "      <td>1</td>\n",
              "      <td>1</td>\n",
              "    </tr>\n",
              "    <tr>\n",
              "      <th>8</th>\n",
              "      <td>63</td>\n",
              "      <td>1</td>\n",
              "      <td>1</td>\n",
              "      <td>130</td>\n",
              "      <td>254</td>\n",
              "      <td>0</td>\n",
              "      <td>2</td>\n",
              "      <td>147</td>\n",
              "      <td>0</td>\n",
              "      <td>1.4</td>\n",
              "      <td>2</td>\n",
              "      <td>1.0</td>\n",
              "      <td>2</td>\n",
              "      <td>0</td>\n",
              "    </tr>\n",
              "    <tr>\n",
              "      <th>9</th>\n",
              "      <td>53</td>\n",
              "      <td>1</td>\n",
              "      <td>1</td>\n",
              "      <td>140</td>\n",
              "      <td>203</td>\n",
              "      <td>1</td>\n",
              "      <td>2</td>\n",
              "      <td>155</td>\n",
              "      <td>1</td>\n",
              "      <td>3.1</td>\n",
              "      <td>3</td>\n",
              "      <td>0.0</td>\n",
              "      <td>2</td>\n",
              "      <td>0</td>\n",
              "    </tr>\n",
              "  </tbody>\n",
              "</table>\n",
              "</div>"
            ],
            "text/plain": [
              "   Age  Sex  ChestPain  RestBP  Chol  Fbs  RestECG  MaxHR  ExAng  Oldpeak  \\\n",
              "0   63    1          0     145   233    1        2    150      0      2.3   \n",
              "1   67    1          1     160   286    0        2    108      1      1.5   \n",
              "2   67    1          1     120   229    0        2    129      1      2.6   \n",
              "3   37    1          2     130   250    0        0    187      0      3.5   \n",
              "4   41    0          3     130   204    0        2    172      0      1.4   \n",
              "5   56    1          3     120   236    0        0    178      0      0.8   \n",
              "6   62    0          1     140   268    0        2    160      0      3.6   \n",
              "7   57    0          1     120   354    0        0    163      1      0.6   \n",
              "8   63    1          1     130   254    0        2    147      0      1.4   \n",
              "9   53    1          1     140   203    1        2    155      1      3.1   \n",
              "\n",
              "   Slope   Ca  Thal  AHD  \n",
              "0      3  0.0     0    1  \n",
              "1      2  3.0     1    0  \n",
              "2      2  2.0     2    0  \n",
              "3      3  0.0     1    1  \n",
              "4      1  0.0     1    1  \n",
              "5      1  0.0     1    1  \n",
              "6      3  2.0     1    0  \n",
              "7      1  0.0     1    1  \n",
              "8      2  1.0     2    0  \n",
              "9      3  0.0     2    0  "
            ]
          },
          "execution_count": 157,
          "metadata": {},
          "output_type": "execute_result"
        }
      ],
      "source": [
        "df = pd.read_csv(\n",
        "    \"heart.csv\"\n",
        ")\n",
        "\n",
        "df.dropna(inplace=True)\n",
        "\n",
        "label_map = {\"Yes\": 0, \"No\": 1}\n",
        "chestpain_map = {\"typical\": 0, \"asymptomatic\": 1, \"nonanginal\": 2, \"nontypical\" : 3}\n",
        "thal_map = {\"fixed\": 0, \"normal\": 1, \"reversable\": 2}\n",
        "\n",
        "df[\"AHD\"] = df[\"AHD\"].apply(lambda x: label_map[x])\n",
        "df[\"ChestPain\"] = df[\"ChestPain\"].apply(lambda x: chestpain_map[x])\n",
        "df[\"Thal\"] = df[\"Thal\"].apply(lambda x: thal_map[x])\n",
        "\n",
        "df.head(10)"
      ]
    },
    {
      "cell_type": "code",
      "execution_count": 158,
      "metadata": {
        "id": "7NxnfVDG19Q2"
      },
      "outputs": [],
      "source": [
        "X = df.iloc[:,0:-1]\n",
        "y = df.iloc[:,-1]"
      ]
    },
    {
      "cell_type": "code",
      "execution_count": 159,
      "metadata": {},
      "outputs": [],
      "source": [
        "# feature selection with f1 score\n",
        "selector = SelectKBest(score_func=f_classif, k=10)\n",
        "selector = selector.fit(X, y)\n",
        "predictors = X.columns[selector.get_support()]\n",
        "\n",
        "# extract the input variables and output variable\n",
        "x  = df[predictors]\n",
        "\n",
        "# split the data into 80% training and 20% test\n",
        "x_train, x_test, y_train, y_test = train_test_split(x, y, train_size=0.80, random_state=42, stratify=y)"
      ]
    },
    {
      "cell_type": "code",
      "execution_count": 160,
      "metadata": {},
      "outputs": [],
      "source": [
        "# create an empty dataframe to store the result\n",
        "results_table = pd.DataFrame(columns=['Random Forest', 'Decision Tree', 'AdaBoost', 'Gaussian Naive Bayes', 'Logistic Regression', 'Stacking'])\n",
        "\n",
        "# model wrapper function\n",
        "def train_model(classifier, features, label):\n",
        "    cv = StratifiedKFold(n_splits=10)\n",
        "    scores = cross_val_score(classifier, features, label, scoring='balanced_accuracy', cv=cv, n_jobs=-1)\n",
        "    return scores\n",
        "\n",
        "# get an array of all algorithms\n",
        "models = list()\n",
        "models.append(('Random Forest', RandomForestClassifier()))\n",
        "models.append(('Decision Tree', DecisionTreeClassifier())) \n",
        "models.append(('AdaBoost', AdaBoostClassifier()))\n",
        "models.append(('Gaussian Naive Bayes', GaussianNB())) \n",
        "models.append(('Logistic Regression', LogisticRegression(solver='saga')))\n",
        "\n",
        "baselines = models.copy()\n",
        "\n",
        "# building a stacking classifier\n",
        "def SClassifier():\n",
        "\tmodel_1 = LogisticRegression()\n",
        "\tmodel = StackingClassifier(estimators=baselines, final_estimator=model_1)\n",
        "\treturn model\n",
        "\n",
        "models.append(('Stacking', SClassifier()))  "
      ]
    },
    {
      "cell_type": "code",
      "execution_count": 161,
      "metadata": {},
      "outputs": [
        {
          "name": "stdout",
          "output_type": "stream",
          "text": [
            "Random Forest: 0.816154 (0.087193)\n",
            "Decision Tree: 0.764755 (0.064721)\n",
            "AdaBoost: 0.788619 (0.054358)\n",
            "Gaussian Naive Bayes: 0.815321 (0.060913)\n",
            "Logistic Regression: 0.731340 (0.053158)\n",
            "Extreme Gradient Boost: 0.773800 (0.071120)\n",
            "Stacking: 0.837104 (0.065413)\n"
          ]
        }
      ],
      "source": [
        "# create an empty lists for box chart\n",
        "results, model_name = list(), list()\n",
        "\n",
        "# evaluate the models\n",
        "for name, model in models:\n",
        "    evaluate = train_model(model, x_train, y_train)\n",
        "    results.append(evaluate)\n",
        "    model_name.append(name)\n",
        "    results_table.loc['Imbalanced data I', name] = np.mean(evaluate)\n",
        "    print(\"%s: %f (%f)\" % (name, np.mean(evaluate), np.std(evaluate)))"
      ]
    },
    {
      "cell_type": "code",
      "execution_count": 162,
      "metadata": {},
      "outputs": [
        {
          "data": {
            "image/png": "[encoded data removed]",
            "text/plain": [
              "<Figure size 720x360 with 1 Axes>"
            ]
          },
          "metadata": {
            "needs_background": "light"
          },
          "output_type": "display_data"
        }
      ],
      "source": [
        "# to help with plotting Algorithms performance\n",
        "def algorithm_plot(results, model_name, title):\n",
        "    plt.figure (figsize =(10,5))\n",
        "    plt.boxplot(results, labels=model_name, showmeans=True)\n",
        "    plt.xticks(rotation=20)\n",
        "    plt.title(title)\n",
        "    plt.show()\n",
        "\n",
        "# compare Algorithms performance\n",
        "algorithm_plot(results, model_name, 'Algorithm Comparison: Imbalanced data I') "
      ]
    },
    {
      "cell_type": "markdown",
      "metadata": {},
      "source": [
        "# Fine tuning Hyperparameters"
      ]
    },
    {
      "cell_type": "code",
      "execution_count": 163,
      "metadata": {},
      "outputs": [],
      "source": [
        "# stack all models\n",
        "models_tune = [ DecisionTreeClassifier(),\n",
        "            AdaBoostClassifier(),\n",
        "            RandomForestClassifier(),\n",
        "            GaussianNB(),\n",
        "            LogisticRegression(solver='saga')]\n",
        "          \n",
        "names = [\"DecisionTree\",\"AdaBoostClassifier\",\"RandomForest\",\"GaussianNB\",\"LogisticRegression\"]"
      ]
    },
    {
      "cell_type": "code",
      "execution_count": 164,
      "metadata": {},
      "outputs": [],
      "source": [
        "# possible hyper parameters\n",
        "clf_params = {\"criterion\": [\"gini\", \"entropy\"],\n",
        "               \"min_samples_split\" : list(range(2,6)),\n",
        "               \"max_depth\": list(range(10,21))}\n",
        "\n",
        "ada_params = {'n_estimators': [50,10,20,30]}\n",
        "\n",
        "rf_params = {'n_estimators':[10,30],\n",
        "                \"max_depth\": list(range(3,12))}\n",
        "\n",
        "nb_params = {'var_smoothing': np.logspace(0,-9, num=10)}\n",
        "\n",
        "logreg_params= {\"C\":np.logspace(-1, 1, 3),\n",
        "                    \"max_iter\":[100, 1000]}\n",
        "\n",
        "classifier_params = [clf_params, ada_params, rf_params, nb_params, logreg_params]"
      ]
    },
    {
      "cell_type": "code",
      "execution_count": 165,
      "metadata": {
        "id": "l_GBAUzRAV8M"
      },
      "outputs": [
        {
          "name": "stdout",
          "output_type": "stream",
          "text": [
            "DecisionTree accuracy : 0.772\n",
            "Model tuning done in 5s\n",
            "AdaBoostClassifier accuracy : 0.818\n",
            "Model tuning done in 1s\n",
            "RandomForest accuracy : 0.836\n",
            "Model tuning done in 3s\n",
            "GaussianNB accuracy : 0.827\n",
            "Model tuning done in 0s\n",
            "LogisticRegression accuracy : 0.811\n",
            "Model tuning done in 1s\n"
          ]
        }
      ],
      "source": [
        "# create a timer\n",
        "@contextmanager\n",
        "def timer(title):\n",
        "    start = timeit.default_timer()\n",
        "    yield\n",
        "    print(\"{} done in {:.0f}s\".format(title, timeit.default_timer() - start))\n",
        "\n",
        "# fine tune the model  \n",
        "grid_result = {}\n",
        "best_estimators = {}\n",
        "for name, model, classifier_param in zip(names, models_tune, classifier_params):\n",
        "    with timer(\"Model tuning\"):\n",
        "        clf = GridSearchCV(model, param_grid=classifier_param, scoring = \"accuracy\", n_jobs = -1,verbose = False)\n",
        "        clf.fit(x_train,y_train)\n",
        "        grid_result[name]=clf.best_score_\n",
        "        best_estimators[name]=clf.best_estimator_\n",
        "        print(name,'accuracy : %.3f'%grid_result[name])"
      ]
    },
    {
      "cell_type": "code",
      "execution_count": 166,
      "metadata": {},
      "outputs": [],
      "source": [
        "# model wrapper function\n",
        "def train_model(classifier, features, label):\n",
        "    cv = StratifiedKFold(n_splits=10)\n",
        "    scores = cross_val_score(classifier, features, label, scoring='balanced_accuracy', cv=cv, n_jobs=-1)\n",
        "    return scores\n",
        "\n",
        "# get an array of all algorithms\n",
        "models = list()\n",
        "models.append(('Random Forest', best_estimators['RandomForest']))\n",
        "models.append(('Decision Tree', best_estimators['DecisionTree'])) \n",
        "models.append(('AdaBoost', best_estimators['AdaBoostClassifier']))\n",
        "models.append(('Gaussian Naive Bayes', best_estimators['GaussianNB'])) \n",
        "models.append(('Logistic Regression', best_estimators['LogisticRegression']))\n",
        "\n",
        "baselines = models.copy()\n",
        "\n",
        "# building a stacking classifier\n",
        "def SClassifier():\n",
        "\tmodel_1 = LogisticRegression()\n",
        "\tmodel = StackingClassifier(estimators=baselines, final_estimator=model_1)\n",
        "\treturn model\n",
        "\n",
        "models.append(('Stacking', SClassifier()))  "
      ]
    },
    {
      "cell_type": "code",
      "execution_count": 167,
      "metadata": {},
      "outputs": [
        {
          "name": "stdout",
          "output_type": "stream",
          "text": [
            "Random Forest: 0.792378 (0.077950)\n",
            "Decision Tree: 0.734015 (0.064599)\n",
            "AdaBoost: 0.806480 (0.081388)\n",
            "Gaussian Naive Bayes: 0.819167 (0.057218)\n",
            "Logistic Regression: 0.814563 (0.093298)\n",
            "Stacking: 0.823788 (0.074010)\n"
          ]
        }
      ],
      "source": [
        "# create an empty lists for box chart\n",
        "results, model_name = list(), list()\n",
        "\n",
        "# evaluate the models\n",
        "for name, model in models:\n",
        "    evaluate = train_model(model, x_train, y_train)\n",
        "    results.append(evaluate)\n",
        "    model_name.append(name)\n",
        "    results_table.loc['Best Model', name] = np.mean(evaluate)\n",
        "    print(\"%s: %f (%f)\" % (name, np.mean(evaluate), np.std(evaluate)))"
      ]
    },
    {
      "cell_type": "code",
      "execution_count": 168,
      "metadata": {},
      "outputs": [
        {
          "data": {
            "image/png": "[encoded data removed]",
            "text/plain": [
              "<Figure size 720x360 with 1 Axes>"
            ]
          },
          "metadata": {
            "needs_background": "light"
          },
          "output_type": "display_data"
        }
      ],
      "source": [
        "# compare Algorithms performance\n",
        "algorithm_plot(results, model_name, 'Algorithm Comparison: Best Model') "
      ]
    },
    {
      "cell_type": "code",
      "execution_count": 169,
      "metadata": {},
      "outputs": [
        {
          "data": {
            "text/html": [
              "<div>\n",
              "<style scoped>\n",
              "    .dataframe tbody tr th:only-of-type {\n",
              "        vertical-align: middle;\n",
              "    }\n",
              "\n",
              "    .dataframe tbody tr th {\n",
              "        vertical-align: top;\n",
              "    }\n",
              "\n",
              "    .dataframe thead th {\n",
              "        text-align: right;\n",
              "    }\n",
              "</style>\n",
              "<table border=\"1\" class=\"dataframe\">\n",
              "  <thead>\n",
              "    <tr style=\"text-align: right;\">\n",
              "      <th></th>\n",
              "      <th>Random Forest</th>\n",
              "      <th>Decision Tree</th>\n",
              "      <th>AdaBoost</th>\n",
              "      <th>Gaussian Naive Bayes</th>\n",
              "      <th>Logistic Regression</th>\n",
              "      <th>Extreme Gradient Boost</th>\n",
              "      <th>Stacking</th>\n",
              "    </tr>\n",
              "  </thead>\n",
              "  <tbody>\n",
              "    <tr>\n",
              "      <th>Imbalanced data I</th>\n",
              "      <td>0.816154</td>\n",
              "      <td>0.764755</td>\n",
              "      <td>0.788619</td>\n",
              "      <td>0.815321</td>\n",
              "      <td>0.73134</td>\n",
              "      <td>0.7738</td>\n",
              "      <td>0.837104</td>\n",
              "    </tr>\n",
              "    <tr>\n",
              "      <th>Best Model</th>\n",
              "      <td>0.792378</td>\n",
              "      <td>0.734015</td>\n",
              "      <td>0.80648</td>\n",
              "      <td>0.819167</td>\n",
              "      <td>0.814563</td>\n",
              "      <td>NaN</td>\n",
              "      <td>0.823788</td>\n",
              "    </tr>\n",
              "  </tbody>\n",
              "</table>\n",
              "</div>"
            ],
            "text/plain": [
              "                  Random Forest Decision Tree  AdaBoost Gaussian Naive Bayes  \\\n",
              "Imbalanced data I      0.816154      0.764755  0.788619             0.815321   \n",
              "Best Model             0.792378      0.734015   0.80648             0.819167   \n",
              "\n",
              "                  Logistic Regression Extreme Gradient Boost  Stacking  \n",
              "Imbalanced data I             0.73134                 0.7738  0.837104  \n",
              "Best Model                   0.814563                    NaN  0.823788  "
            ]
          },
          "execution_count": 169,
          "metadata": {},
          "output_type": "execute_result"
        }
      ],
      "source": [
        "results_table"
      ]
    },
    {
      "cell_type": "code",
      "execution_count": 170,
      "metadata": {},
      "outputs": [],
      "source": [
        "clf = SClassifier()\n",
        "clf.fit(x_train, y_train)\n",
        "predictions = clf.predict(x_test)"
      ]
    },
    {
      "cell_type": "code",
      "execution_count": 171,
      "metadata": {},
      "outputs": [
        {
          "name": "stdout",
          "output_type": "stream",
          "text": [
            "0.7833333333333333\n"
          ]
        }
      ],
      "source": [
        "import pickle \n",
        "\n",
        "# save the model to disk\n",
        "filename = 'heart_model.sav'\n",
        "pickle.dump(clf, open(filename, 'wb'))\n",
        " \n",
        "# some time later...\n",
        " \n",
        "# load the model from disk\n",
        "loaded_model = pickle.load(open(filename, 'rb'))\n",
        "result = loaded_model.score(x_test, y_test)\n",
        "print(result)"
      ]
    }
  ],
  "metadata": {
    "colab": {
      "collapsed_sections": [
        "P_NZRuz35gp9",
        "cGNTnOLf-KCD"
      ],
      "provenance": []
    },
    "kernelspec": {
      "display_name": "Python 3.8.5 ('base')",
      "language": "python",
      "name": "python3"
    },
    "language_info": {
      "codemirror_mode": {
        "name": "ipython",
        "version": 3
      },
      "file_extension": ".py",
      "mimetype": "text/x-python",
      "name": "python",
      "nbconvert_exporter": "python",
      "pygments_lexer": "ipython3",
      "version": "3.8.5"
    },
    "vscode": {
      "interpreter": {
        "hash": "a077222d77dfe082b8f1dd562ad70e458ac2ab76993a0b248ab0476e32e9e8dd"
      }
    }
  },
  "nbformat": 4,
  "nbformat_minor": 0
}
